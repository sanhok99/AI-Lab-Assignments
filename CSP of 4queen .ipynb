{
  "nbformat": 4,
  "nbformat_minor": 0,
  "metadata": {
    "colab": {
      "name": "Untitled0.ipynb",
      "provenance": [],
      "authorship_tag": "ABX9TyM4yFBt+P7SO/aJRRN6sAud",
      "include_colab_link": true
    },
    "kernelspec": {
      "name": "python3",
      "display_name": "Python 3"
    },
    "language_info": {
      "name": "python"
    }
  },
  "cells": [
    {
      "cell_type": "markdown",
      "metadata": {
        "id": "view-in-github",
        "colab_type": "text"
      },
      "source": [
        "<a href=\"https://colab.research.google.com/github/sanhok99/AI-Lab-Assignments/blob/informed/CSP%20of%204queen%20.ipynb\" target=\"_parent\"><img src=\"https://colab.research.google.com/assets/colab-badge.svg\" alt=\"Open In Colab\"/></a>"
      ]
    },
    {
      "cell_type": "code",
      "execution_count": 41,
      "metadata": {
        "id": "GdoRxYskOu0L"
      },
      "outputs": [],
      "source": [
        "from z3 import *\n",
        "x1=Int('x1')\n",
        "x2=Int('x2')\n",
        "x3=Int('x3')\n",
        "x4=Int('x4')"
      ]
    },
    {
      "cell_type": "code",
      "source": [
        "s=Solver()\n",
        "s.add(x1>0)\n",
        "s.add(x1<5)\n",
        "s.add(x2>0)\n",
        "s.add(x2<5)\n",
        "s.add(x3>0)\n",
        "s.add(x3<5)\n",
        "s.add(x4>0)\n",
        "s.add(x4<5)\n",
        "s.add(x1!=x2)\n",
        "s.add(x1!=x3)\n",
        "s.add(x1!=x4)\n",
        "s.add(x2!=x1)\n",
        "s.add(x2!=x3)\n",
        "s.add(x2!=x4)\n",
        "s.add(x3!=x1)\n",
        "s.add(x3!=x2)\n",
        "s.add(x3!=x4)\n",
        "s.add(x4!=x1)\n",
        "s.add(x4!=x2)\n",
        "s.add(x4!=x3)\n",
        "s.add(x1!=x2+1)\n",
        "s.add(x1!=x2-1)\n",
        "s.add(x2!=x1+1)\n",
        "s.add(x2!=x1-1)\n",
        "s.add(x2!=x3+1)\n",
        "s.add(x2!=x3-1)\n",
        "s.add(x3!=x2+1)\n",
        "s.add(x3!=x2-1)\n",
        "s.add(x3!=x4+1)\n",
        "s.add(x3!=x4-1)\n",
        "s.add(x4!=x3+1)\n",
        "s.add(x4!=x3-1)\n",
        "s.add(x1!=x3+2)\n",
        "s.add(x1!=x3-2)\n",
        "s.add(x1!=x4+3)\n",
        "s.add(x1!=x4-3)\n",
        "s.add(x2!=x4+2)\n",
        "s.add(x2!=x4-2)\n",
        "s.add(x3!=x1+2)\n",
        "s.add(x3!=x1-2)\n",
        "s.add(x4!=x2+2)\n",
        "s.add(x4!=x2-2)\n",
        "s.add(x4!=x1+3)\n",
        "s.add(x4!=x1-3)"
      ],
      "metadata": {
        "id": "WNIjktCqXHYG"
      },
      "execution_count": 42,
      "outputs": []
    },
    {
      "cell_type": "code",
      "source": [
        "s.check()"
      ],
      "metadata": {
        "colab": {
          "base_uri": "https://localhost:8080/",
          "height": 34
        },
        "id": "cdNBa-acYQXu",
        "outputId": "3d2a9049-5a83-4d33-d7cb-b270b0912b3c"
      },
      "execution_count": 43,
      "outputs": [
        {
          "output_type": "execute_result",
          "data": {
            "text/plain": [
              "sat"
            ],
            "text/html": [
              "<b>sat</b>"
            ]
          },
          "metadata": {},
          "execution_count": 43
        }
      ]
    },
    {
      "cell_type": "code",
      "source": [
        "m=s.model()\n",
        "print(m)"
      ],
      "metadata": {
        "colab": {
          "base_uri": "https://localhost:8080/"
        },
        "id": "YldXhjvra5cV",
        "outputId": "1fa44e7a-979b-4452-e37d-de4e00318bb2"
      },
      "execution_count": 44,
      "outputs": [
        {
          "output_type": "stream",
          "name": "stdout",
          "text": [
            "[x4 = 2, x3 = 4, x2 = 1, x1 = 3]\n"
          ]
        }
      ]
    },
    {
      "cell_type": "code",
      "source": [
        ""
      ],
      "metadata": {
        "id": "9WwIcGLoa8eE"
      },
      "execution_count": null,
      "outputs": []
    }
  ]
}